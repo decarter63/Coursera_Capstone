{
    "cells": [
        {
            "cell_type": "markdown",
            "metadata": {
                "collapsed": true
            },
            "source": "<a href=\"https://cognitiveclass.ai\"><img src = \"https://ibm.box.com/shared/static/9gegpsmnsoo25ikkbl4qzlvlyjbgxs5x.png\" width = 400> </a>\n\n<h1 align=center><font size = 5>Segmenting and Clustering Neighborhoods in Toronto</font></h1>"
        },
        {
            "cell_type": "markdown",
            "metadata": {},
            "source": "# Part 1\n## Create Initial Dataframe with Toronto Postal Codes, Boroughs, and Neighborhoods\nScrape Wikipedia page https://en.wikipedia.org/wiki/List_of_postal_codes_of_Canada:_M in order to obtain the data that is in the table of postal codes and transform the data into a pandas dataframe."
        },
        {
            "cell_type": "markdown",
            "metadata": {},
            "source": "Download Dependencies"
        },
        {
            "cell_type": "code",
            "execution_count": 16,
            "metadata": {},
            "outputs": [],
            "source": "import pandas as pd # library for data analysis\n\n# !conda install -c conda-forge beautifulsoup4 --yes\nfrom bs4 import BeautifulSoup\n\nimport requests # library to handle requests"
        },
        {
            "cell_type": "markdown",
            "metadata": {},
            "source": "Read the wiki page into a file and parse it."
        },
        {
            "cell_type": "code",
            "execution_count": 17,
            "metadata": {},
            "outputs": [],
            "source": "url = 'https://en.wikipedia.org/wiki/List_of_postal_codes_of_Canada:_M'\nhtml_file = requests.get(url).text\nsoup = BeautifulSoup(html_file, 'lxml')"
        },
        {
            "cell_type": "markdown",
            "metadata": {},
            "source": "Drill down into the table to extract headings and rows, then create DataFrame with headings."
        },
        {
            "cell_type": "code",
            "execution_count": 18,
            "metadata": {},
            "outputs": [],
            "source": "table = soup.find('table', class_='wikitable sortable') # Get the Postcode/Borough/Neighbourgood table.\nheadings = table.find_all('th') # Extract the 3 column headings.\nrows = table.find_all('tr') # Get all rows in the table\n# Create a DataFrame with the column headings, removing the newline character from the 3rd heading.\ndf = pd.DataFrame(columns=[headings[0].text, headings[1].text, headings[2].text.split('\\n')[0]])"
        },
        {
            "cell_type": "markdown",
            "metadata": {},
            "source": "Loop through all rows to build the DataFrame one row at a time."
        },
        {
            "cell_type": "code",
            "execution_count": 19,
            "metadata": {},
            "outputs": [],
            "source": "for row in rows[1:]: # Skip the 1st (header) row.\n    # Get the Postcode, Borough, and Neighbourhood for the current row,\n    # removing the trailing newline from the neighborhood.\n    columns = row.find_all('td')\n    postcode = columns[0].text\n    borough = columns[1].text\n    neighborhood = columns[2].text.split('\\n')[0]\n    if borough != 'Not assigned': # Skip any rows without a borough.\n        if neighborhood == 'Not assigned': # Unassigned neighborhoods take on the name of their borough.\n            neighborhood = borough\n        if postcode in df['Postcode'].values:\n            # Group neighboorhoods within same postcode into single postcode row.\n            # Assumption: A postcode includes only one borough\n            # (though boroughs may span multiple postcodes).\n            df.loc[df['Postcode'] == postcode, 'Neighbourhood'] = \\\n            df[df['Postcode'] == postcode]['Neighbourhood'] + \", \" + neighborhood\n        else: # Add row for new postcode, borough, and neighborhood.\n            df = df.append(pd.Series([postcode, borough, neighborhood], index=df.columns), ignore_index=True)"
        },
        {
            "cell_type": "code",
            "execution_count": 20,
            "metadata": {},
            "outputs": [
                {
                    "data": {
                        "text/html": "<div>\n<style scoped>\n    .dataframe tbody tr th:only-of-type {\n        vertical-align: middle;\n    }\n\n    .dataframe tbody tr th {\n        vertical-align: top;\n    }\n\n    .dataframe thead th {\n        text-align: right;\n    }\n</style>\n<table border=\"1\" class=\"dataframe\">\n  <thead>\n    <tr style=\"text-align: right;\">\n      <th></th>\n      <th>Postcode</th>\n      <th>Borough</th>\n      <th>Neighbourhood</th>\n    </tr>\n  </thead>\n  <tbody>\n    <tr>\n      <th>0</th>\n      <td>M3A</td>\n      <td>North York</td>\n      <td>Parkwoods</td>\n    </tr>\n    <tr>\n      <th>1</th>\n      <td>M4A</td>\n      <td>North York</td>\n      <td>Victoria Village</td>\n    </tr>\n    <tr>\n      <th>2</th>\n      <td>M5A</td>\n      <td>Downtown Toronto</td>\n      <td>Harbourfront</td>\n    </tr>\n    <tr>\n      <th>3</th>\n      <td>M6A</td>\n      <td>North York</td>\n      <td>Lawrence Heights, Lawrence Manor</td>\n    </tr>\n    <tr>\n      <th>4</th>\n      <td>M7A</td>\n      <td>Downtown Toronto</td>\n      <td>Queen's Park</td>\n    </tr>\n    <tr>\n      <th>5</th>\n      <td>M9A</td>\n      <td>Etobicoke</td>\n      <td>Islington Avenue</td>\n    </tr>\n    <tr>\n      <th>6</th>\n      <td>M1B</td>\n      <td>Scarborough</td>\n      <td>Rouge, Malvern</td>\n    </tr>\n    <tr>\n      <th>7</th>\n      <td>M3B</td>\n      <td>North York</td>\n      <td>Don Mills North</td>\n    </tr>\n    <tr>\n      <th>8</th>\n      <td>M4B</td>\n      <td>East York</td>\n      <td>Woodbine Gardens, Parkview Hill</td>\n    </tr>\n    <tr>\n      <th>9</th>\n      <td>M5B</td>\n      <td>Downtown Toronto</td>\n      <td>Ryerson, Garden District</td>\n    </tr>\n    <tr>\n      <th>10</th>\n      <td>M6B</td>\n      <td>North York</td>\n      <td>Glencairn</td>\n    </tr>\n    <tr>\n      <th>11</th>\n      <td>M9B</td>\n      <td>Etobicoke</td>\n      <td>Cloverdale, Islington, Martin Grove, Princess ...</td>\n    </tr>\n  </tbody>\n</table>\n</div>",
                        "text/plain": "   Postcode           Borough  \\\n0       M3A        North York   \n1       M4A        North York   \n2       M5A  Downtown Toronto   \n3       M6A        North York   \n4       M7A  Downtown Toronto   \n5       M9A         Etobicoke   \n6       M1B       Scarborough   \n7       M3B        North York   \n8       M4B         East York   \n9       M5B  Downtown Toronto   \n10      M6B        North York   \n11      M9B         Etobicoke   \n\n                                        Neighbourhood  \n0                                           Parkwoods  \n1                                    Victoria Village  \n2                                        Harbourfront  \n3                    Lawrence Heights, Lawrence Manor  \n4                                        Queen's Park  \n5                                    Islington Avenue  \n6                                      Rouge, Malvern  \n7                                     Don Mills North  \n8                     Woodbine Gardens, Parkview Hill  \n9                            Ryerson, Garden District  \n10                                          Glencairn  \n11  Cloverdale, Islington, Martin Grove, Princess ...  "
                    },
                    "execution_count": 20,
                    "metadata": {},
                    "output_type": "execute_result"
                }
            ],
            "source": "df.head(12) # Display the first 12 rows of the DataFrame"
        },
        {
            "cell_type": "code",
            "execution_count": 21,
            "metadata": {},
            "outputs": [
                {
                    "data": {
                        "text/plain": "(103, 3)"
                    },
                    "execution_count": 21,
                    "metadata": {},
                    "output_type": "execute_result"
                }
            ],
            "source": "df.shape"
        },
        {
            "cell_type": "markdown",
            "metadata": {},
            "source": "# Part 2\n## Get the latitude and longitude coordinates of each neighborhood\nAdd Latitude and Longitude columns to the DataFrame."
        },
        {
            "cell_type": "markdown",
            "metadata": {},
            "source": "Download dependencies"
        },
        {
            "cell_type": "code",
            "execution_count": 22,
            "metadata": {
                "scrolled": false
            },
            "outputs": [],
            "source": "# !conda install -c conda-forge geocoder --yes\nimport geocoder # import geocoder"
        },
        {
            "cell_type": "markdown",
            "metadata": {},
            "source": "Loop through each postal code to get latitude and longitude, then add DataFrame as new columns"
        },
        {
            "cell_type": "code",
            "execution_count": 24,
            "metadata": {},
            "outputs": [],
            "source": "latitudes = []\nlongitudes = []\nfor postal_code in df['Postcode']:\n    # using geocoder.arcgis rather than geocoder.google as the latter did not work\n    g = geocoder.arcgis('{}, Toronto, Ontario'.format(postal_code))\n\n    latitudes.append(g.latlng[0])\n    longitudes.append(g.latlng[1])\n\ndf['Latitude'] = latitudes\ndf['Longitude'] = longitudes"
        },
        {
            "cell_type": "code",
            "execution_count": 25,
            "metadata": {},
            "outputs": [
                {
                    "data": {
                        "text/html": "<div>\n<style scoped>\n    .dataframe tbody tr th:only-of-type {\n        vertical-align: middle;\n    }\n\n    .dataframe tbody tr th {\n        vertical-align: top;\n    }\n\n    .dataframe thead th {\n        text-align: right;\n    }\n</style>\n<table border=\"1\" class=\"dataframe\">\n  <thead>\n    <tr style=\"text-align: right;\">\n      <th></th>\n      <th>Postcode</th>\n      <th>Borough</th>\n      <th>Neighbourhood</th>\n      <th>Latitude</th>\n      <th>Longitude</th>\n    </tr>\n  </thead>\n  <tbody>\n    <tr>\n      <th>0</th>\n      <td>M3A</td>\n      <td>North York</td>\n      <td>Parkwoods</td>\n      <td>43.752420</td>\n      <td>-79.329242</td>\n    </tr>\n    <tr>\n      <th>1</th>\n      <td>M4A</td>\n      <td>North York</td>\n      <td>Victoria Village</td>\n      <td>43.730600</td>\n      <td>-79.313265</td>\n    </tr>\n    <tr>\n      <th>2</th>\n      <td>M5A</td>\n      <td>Downtown Toronto</td>\n      <td>Harbourfront</td>\n      <td>43.650295</td>\n      <td>-79.359166</td>\n    </tr>\n    <tr>\n      <th>3</th>\n      <td>M6A</td>\n      <td>North York</td>\n      <td>Lawrence Heights, Lawrence Manor</td>\n      <td>43.723270</td>\n      <td>-79.451286</td>\n    </tr>\n    <tr>\n      <th>4</th>\n      <td>M7A</td>\n      <td>Downtown Toronto</td>\n      <td>Queen's Park</td>\n      <td>43.661150</td>\n      <td>-79.391715</td>\n    </tr>\n    <tr>\n      <th>5</th>\n      <td>M9A</td>\n      <td>Etobicoke</td>\n      <td>Islington Avenue</td>\n      <td>43.662299</td>\n      <td>-79.528195</td>\n    </tr>\n    <tr>\n      <th>6</th>\n      <td>M1B</td>\n      <td>Scarborough</td>\n      <td>Rouge, Malvern</td>\n      <td>43.811525</td>\n      <td>-79.195517</td>\n    </tr>\n    <tr>\n      <th>7</th>\n      <td>M3B</td>\n      <td>North York</td>\n      <td>Don Mills North</td>\n      <td>43.749055</td>\n      <td>-79.362227</td>\n    </tr>\n    <tr>\n      <th>8</th>\n      <td>M4B</td>\n      <td>East York</td>\n      <td>Woodbine Gardens, Parkview Hill</td>\n      <td>43.707535</td>\n      <td>-79.311773</td>\n    </tr>\n    <tr>\n      <th>9</th>\n      <td>M5B</td>\n      <td>Downtown Toronto</td>\n      <td>Ryerson, Garden District</td>\n      <td>43.657363</td>\n      <td>-79.378180</td>\n    </tr>\n    <tr>\n      <th>10</th>\n      <td>M6B</td>\n      <td>North York</td>\n      <td>Glencairn</td>\n      <td>43.707990</td>\n      <td>-79.448367</td>\n    </tr>\n    <tr>\n      <th>11</th>\n      <td>M9B</td>\n      <td>Etobicoke</td>\n      <td>Cloverdale, Islington, Martin Grove, Princess ...</td>\n      <td>43.650347</td>\n      <td>-79.555040</td>\n    </tr>\n  </tbody>\n</table>\n</div>",
                        "text/plain": "   Postcode           Borough  \\\n0       M3A        North York   \n1       M4A        North York   \n2       M5A  Downtown Toronto   \n3       M6A        North York   \n4       M7A  Downtown Toronto   \n5       M9A         Etobicoke   \n6       M1B       Scarborough   \n7       M3B        North York   \n8       M4B         East York   \n9       M5B  Downtown Toronto   \n10      M6B        North York   \n11      M9B         Etobicoke   \n\n                                        Neighbourhood   Latitude  Longitude  \n0                                           Parkwoods  43.752420 -79.329242  \n1                                    Victoria Village  43.730600 -79.313265  \n2                                        Harbourfront  43.650295 -79.359166  \n3                    Lawrence Heights, Lawrence Manor  43.723270 -79.451286  \n4                                        Queen's Park  43.661150 -79.391715  \n5                                    Islington Avenue  43.662299 -79.528195  \n6                                      Rouge, Malvern  43.811525 -79.195517  \n7                                     Don Mills North  43.749055 -79.362227  \n8                     Woodbine Gardens, Parkview Hill  43.707535 -79.311773  \n9                            Ryerson, Garden District  43.657363 -79.378180  \n10                                          Glencairn  43.707990 -79.448367  \n11  Cloverdale, Islington, Martin Grove, Princess ...  43.650347 -79.555040  "
                    },
                    "execution_count": 25,
                    "metadata": {},
                    "output_type": "execute_result"
                }
            ],
            "source": "df.head(12) # Display the first 12 rows of the DataFrame"
        },
        {
            "cell_type": "code",
            "execution_count": 26,
            "metadata": {},
            "outputs": [
                {
                    "data": {
                        "text/plain": "(103, 5)"
                    },
                    "execution_count": 26,
                    "metadata": {},
                    "output_type": "execute_result"
                }
            ],
            "source": "df.shape"
        },
        {
            "cell_type": "code",
            "execution_count": null,
            "metadata": {},
            "outputs": [],
            "source": ""
        }
    ],
    "metadata": {
        "kernelspec": {
            "display_name": "Python 3.6",
            "language": "python",
            "name": "python3"
        },
        "language_info": {
            "codemirror_mode": {
                "name": "ipython",
                "version": 3
            },
            "file_extension": ".py",
            "mimetype": "text/x-python",
            "name": "python",
            "nbconvert_exporter": "python",
            "pygments_lexer": "ipython3",
            "version": "3.6.9"
        }
    },
    "nbformat": 4,
    "nbformat_minor": 1
}