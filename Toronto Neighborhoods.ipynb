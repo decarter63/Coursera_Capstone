{
    "cells": [
        {
            "cell_type": "markdown",
            "metadata": {
                "collapsed": true
            },
            "source": "<a href=\"https://cognitiveclass.ai\"><img src = \"https://ibm.box.com/shared/static/9gegpsmnsoo25ikkbl4qzlvlyjbgxs5x.png\" width = 400> </a>\n\n<h1 align=center><font size = 5>Segmenting and Clustering Neighborhoods in Toronto</font></h1>"
        },
        {
            "cell_type": "markdown",
            "metadata": {},
            "source": "# Create Initial Dataframe with Toronto Postal Codes, Boroughs, and Neighborhoods\nScrape Wikipedia page https://en.wikipedia.org/wiki/List_of_postal_codes_of_Canada:_M in order to obtain the data that is in the table of postal codes and transform the data into a pandas dataframe."
        },
        {
            "cell_type": "markdown",
            "metadata": {},
            "source": "Download Dependencies"
        },
        {
            "cell_type": "code",
            "execution_count": 57,
            "metadata": {},
            "outputs": [],
            "source": "import pandas as pd # library for data analysis\n\n# !conda install -c conda-forge beautifulsoup4 --yes\nfrom bs4 import BeautifulSoup\n\nimport requests # library to handle requests"
        },
        {
            "cell_type": "markdown",
            "metadata": {},
            "source": "Read the wiki page into a file and parse it."
        },
        {
            "cell_type": "code",
            "execution_count": 58,
            "metadata": {},
            "outputs": [],
            "source": "url = 'https://en.wikipedia.org/wiki/List_of_postal_codes_of_Canada:_M'\nhtml_file = requests.get(url).text\nsoup = BeautifulSoup(html_file, 'lxml')"
        },
        {
            "cell_type": "markdown",
            "metadata": {},
            "source": "Drill down into the table to extract headings and rows, then create DataFrame with headings."
        },
        {
            "cell_type": "code",
            "execution_count": 59,
            "metadata": {},
            "outputs": [],
            "source": "table = soup.find('table', class_='wikitable sortable') # Get the Postcode/Borough/Neighbourgood table.\nheadings = table.find_all('th') # Extract the 3 column headings.\nrows = table.find_all('tr') # Get all rows in the table\n# Create a DataFrame with the column headings, removing the newline character from the 3rd heading.\ndf = pd.DataFrame(columns=[headings[0].text, headings[1].text, headings[2].text.split('\\n')[0]])"
        },
        {
            "cell_type": "markdown",
            "metadata": {},
            "source": "Loop through all rows to build the DataFrame one row at a time."
        },
        {
            "cell_type": "code",
            "execution_count": 60,
            "metadata": {},
            "outputs": [
                {
                    "data": {
                        "text/html": "<div>\n<style scoped>\n    .dataframe tbody tr th:only-of-type {\n        vertical-align: middle;\n    }\n\n    .dataframe tbody tr th {\n        vertical-align: top;\n    }\n\n    .dataframe thead th {\n        text-align: right;\n    }\n</style>\n<table border=\"1\" class=\"dataframe\">\n  <thead>\n    <tr style=\"text-align: right;\">\n      <th></th>\n      <th>Postcode</th>\n      <th>Borough</th>\n      <th>Neighbourhood</th>\n    </tr>\n  </thead>\n  <tbody>\n    <tr>\n      <th>0</th>\n      <td>M3A</td>\n      <td>North York</td>\n      <td>Parkwoods</td>\n    </tr>\n    <tr>\n      <th>1</th>\n      <td>M4A</td>\n      <td>North York</td>\n      <td>Victoria Village</td>\n    </tr>\n    <tr>\n      <th>2</th>\n      <td>M5A</td>\n      <td>Downtown Toronto</td>\n      <td>Harbourfront</td>\n    </tr>\n    <tr>\n      <th>3</th>\n      <td>M6A</td>\n      <td>North York</td>\n      <td>Lawrence Heights, Lawrence Manor</td>\n    </tr>\n    <tr>\n      <th>4</th>\n      <td>M7A</td>\n      <td>Downtown Toronto</td>\n      <td>Queen's Park</td>\n    </tr>\n  </tbody>\n</table>\n</div>",
                        "text/plain": "  Postcode           Borough                     Neighbourhood\n0      M3A        North York                         Parkwoods\n1      M4A        North York                  Victoria Village\n2      M5A  Downtown Toronto                      Harbourfront\n3      M6A        North York  Lawrence Heights, Lawrence Manor\n4      M7A  Downtown Toronto                      Queen's Park"
                    },
                    "execution_count": 60,
                    "metadata": {},
                    "output_type": "execute_result"
                }
            ],
            "source": "for row in rows[1:]: # Skip the 1st (header) row.\n    # Get the Postcode, Borough, and Neighbourhood for the current row, removing the trailing newline from the neighborhood.\n    columns = row.find_all('td')\n    postcode = columns[0].text\n    borough = columns[1].text\n    neighborhood = columns[2].text.split('\\n')[0]\n    if borough != 'Not assigned': # Skip any rows without a borough.\n        if neighborhood == 'Not assigned': # Unassigned neighborhoods take on the name of their borough.\n            neighborhood = borough\n        if postcode in df['Postcode'].values:\n            # Group neighboorhoods within same postcode into single postcode row.\n            # Assumption: A postcode includes only one borough (though boroughs may span multiple postcodes).\n            df.loc[df['Postcode'] == postcode, 'Neighbourhood'] = df[df['Postcode'] == postcode]['Neighbourhood'] + \", \" + neighborhood\n        else: # Add row for new postcode, borough, and neighborhood.\n            df = df.append(pd.Series([postcode, borough, neighborhood], index=df.columns), ignore_index=True)\ndf.head() # Display first 5 rows of DataFrame"
        },
        {
            "cell_type": "code",
            "execution_count": 61,
            "metadata": {},
            "outputs": [
                {
                    "data": {
                        "text/plain": "(103, 3)"
                    },
                    "execution_count": 61,
                    "metadata": {},
                    "output_type": "execute_result"
                }
            ],
            "source": "df.shape"
        }
    ],
    "metadata": {
        "kernelspec": {
            "display_name": "Python 3.6",
            "language": "python",
            "name": "python3"
        },
        "language_info": {
            "codemirror_mode": {
                "name": "ipython",
                "version": 3
            },
            "file_extension": ".py",
            "mimetype": "text/x-python",
            "name": "python",
            "nbconvert_exporter": "python",
            "pygments_lexer": "ipython3",
            "version": "3.6.9"
        }
    },
    "nbformat": 4,
    "nbformat_minor": 1
}